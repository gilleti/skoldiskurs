{
 "cells": [
  {
   "cell_type": "code",
   "execution_count": 1,
   "id": "becceb7b",
   "metadata": {},
   "outputs": [],
   "source": [
    "from gensim.models import FastText\n",
    "import pandas as pd\n",
    "from sentence_splitter import SentenceSplitter, split_text_into_sentences\n",
    "import re"
   ]
  },
  {
   "cell_type": "code",
   "execution_count": 2,
   "id": "00d0f015",
   "metadata": {},
   "outputs": [],
   "source": [
    "parquet = \"motioner_2014_2021.parquet\""
   ]
  },
  {
   "cell_type": "code",
   "execution_count": 3,
   "id": "8aea62e6",
   "metadata": {},
   "outputs": [],
   "source": [
    "df = pd.read_parquet(parquet)"
   ]
  },
  {
   "cell_type": "code",
   "execution_count": 4,
   "id": "79174b33",
   "metadata": {},
   "outputs": [],
   "source": [
    "d = df[\"titel\"] + \". \" + df[\"text\"]"
   ]
  },
  {
   "cell_type": "code",
   "execution_count": 5,
   "id": "2155f7ef",
   "metadata": {},
   "outputs": [],
   "source": [
    "corpus = d.to_list()"
   ]
  },
  {
   "cell_type": "code",
   "execution_count": 6,
   "id": "7ec16b4d",
   "metadata": {},
   "outputs": [],
   "source": [
    "splitter = SentenceSplitter(language = 'sv') # input should be divided into tokenized sentences\n",
    "corpus= [splitter.split(s) for s in corpus] # split into sentences "
   ]
  },
  {
   "cell_type": "code",
   "execution_count": 7,
   "id": "1a70476f",
   "metadata": {},
   "outputs": [],
   "source": [
    "corpus = [re.findall(r\"[\\w']+|[.,!?]\", s.lower()) for sentence in corpus for s in sentence] #a very naive way to tokenize"
   ]
  },
  {
   "cell_type": "code",
   "execution_count": 8,
   "id": "ed262e62",
   "metadata": {},
   "outputs": [
    {
     "name": "stdout",
     "output_type": "stream",
     "text": [
      "1324425\n"
     ]
    }
   ],
   "source": [
    "print(len(corpus))"
   ]
  },
  {
   "cell_type": "code",
   "execution_count": 9,
   "id": "0329ede3",
   "metadata": {},
   "outputs": [],
   "source": [
    "model = FastText(vector_size = 100, window = 5, min_count = 5,  sg = 1, negative = 10)  # instantiate model"
   ]
  },
  {
   "cell_type": "code",
   "execution_count": 10,
   "id": "aaa54936",
   "metadata": {},
   "outputs": [],
   "source": [
    "model.build_vocab(corpus_iterable = corpus)\n",
    "model.train(corpus_iterable = corpus, total_examples = len(corpus), epochs = 5) \n",
    "model.save(\"model.bin\")"
   ]
  }
 ],
 "metadata": {
  "kernelspec": {
   "display_name": "Python 3 (ipykernel)",
   "language": "python",
   "name": "python3"
  },
  "language_info": {
   "codemirror_mode": {
    "name": "ipython",
    "version": 3
   },
   "file_extension": ".py",
   "mimetype": "text/x-python",
   "name": "python",
   "nbconvert_exporter": "python",
   "pygments_lexer": "ipython3",
   "version": "3.10.6"
  }
 },
 "nbformat": 4,
 "nbformat_minor": 5
}
