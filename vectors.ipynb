{
 "cells": [
  {
   "cell_type": "code",
   "execution_count": 1,
   "id": "76171e28",
   "metadata": {},
   "outputs": [],
   "source": [
    "from gensim.models import FastText\n",
    "import pandas as pd\n",
    "from sentence_splitter import SentenceSplitter, split_text_into_sentences\n",
    "import re"
   ]
  },
  {
   "cell_type": "code",
   "execution_count": 2,
   "id": "c337e714",
   "metadata": {},
   "outputs": [],
   "source": [
    "motioner = \"data/motioner_2014_2021.parquet\""
   ]
  },
  {
   "cell_type": "code",
   "execution_count": 3,
   "id": "d9eef74e",
   "metadata": {},
   "outputs": [],
   "source": [
    "anforanden = \"data/df_anforanden_metadata.parquet\""
   ]
  },
  {
   "cell_type": "code",
   "execution_count": 4,
   "id": "4b4790fe",
   "metadata": {},
   "outputs": [],
   "source": [
    "mot = pd.read_parquet(motioner)"
   ]
  },
  {
   "cell_type": "code",
   "execution_count": 5,
   "id": "a3a1f23f",
   "metadata": {},
   "outputs": [],
   "source": [
    "anf = pd.read_parquet(anforanden)"
   ]
  },
  {
   "cell_type": "code",
   "execution_count": 6,
   "id": "e3dd4e0c",
   "metadata": {},
   "outputs": [],
   "source": [
    "anf_df = anf[\"anforandetext\"]"
   ]
  },
  {
   "cell_type": "code",
   "execution_count": 7,
   "id": "9c7d69f1",
   "metadata": {},
   "outputs": [],
   "source": [
    "mot_df = mot[\"titel\"] + \". \" + mot[\"text\"]"
   ]
  },
  {
   "cell_type": "code",
   "execution_count": 8,
   "id": "9d80b34a",
   "metadata": {},
   "outputs": [],
   "source": [
    "df = pd.concat([mot_df, anf_df], axis = 0)"
   ]
  },
  {
   "cell_type": "code",
   "execution_count": 9,
   "id": "5cecf986",
   "metadata": {},
   "outputs": [],
   "source": [
    "corpus = df.to_list()"
   ]
  },
  {
   "cell_type": "code",
   "execution_count": 10,
   "id": "53f80c5c",
   "metadata": {},
   "outputs": [
    {
     "name": "stderr",
     "output_type": "stream",
     "text": [
      "/home/gilleti/.local/lib/python3.10/site-packages/sentence_splitter/__init__.py:85: SentenceSplitterWarning: Text is None.\n",
      "  warnings.warn(\"Text is None.\", SentenceSplitterWarning)\n"
     ]
    }
   ],
   "source": [
    "splitter = SentenceSplitter(language = 'sv') # input should be divided into tokenized sentences\n",
    "corpus= [splitter.split(s) for s in corpus] # split into sentences "
   ]
  },
  {
   "cell_type": "code",
   "execution_count": null,
   "id": "36014c74",
   "metadata": {},
   "outputs": [],
   "source": [
    "corpus = [re.findall(r\"[\\w']+|[.,!?]\", s.lower()) for sentence in corpus for s in sentence] #a very naive way to tokenize"
   ]
  },
  {
   "cell_type": "code",
   "execution_count": null,
   "id": "e52b7850",
   "metadata": {},
   "outputs": [],
   "source": [
    "print(len(corpus))"
   ]
  },
  {
   "cell_type": "code",
   "execution_count": null,
   "id": "709b8cd5",
   "metadata": {},
   "outputs": [],
   "source": [
    "model = FastText(vector_size = 100, window = 5, min_count = 5,  sg = 1, negative = 10)  # instantiate model"
   ]
  },
  {
   "cell_type": "code",
   "execution_count": null,
   "id": "2ecfe690",
   "metadata": {},
   "outputs": [],
   "source": [
    "model.build_vocab(corpus_iterable = corpus)\n",
    "model.train(corpus_iterable = corpus, total_examples = len(corpus), epochs = 5) \n",
    "model.save(\"anf_mot_model.bin\")"
   ]
  },
  {
   "cell_type": "code",
   "execution_count": null,
   "id": "1f18bb98",
   "metadata": {},
   "outputs": [],
   "source": []
  }
 ],
 "metadata": {
  "kernelspec": {
   "display_name": "Python 3 (ipykernel)",
   "language": "python",
   "name": "python3"
  },
  "language_info": {
   "codemirror_mode": {
    "name": "ipython",
    "version": 3
   },
   "file_extension": ".py",
   "mimetype": "text/x-python",
   "name": "python",
   "nbconvert_exporter": "python",
   "pygments_lexer": "ipython3",
   "version": "3.10.6"
  }
 },
 "nbformat": 4,
 "nbformat_minor": 5
}
