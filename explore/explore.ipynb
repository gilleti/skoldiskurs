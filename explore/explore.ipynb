{
 "cells": [
  {
   "cell_type": "code",
   "execution_count": 61,
   "id": "158c89f4",
   "metadata": {},
   "outputs": [
    {
     "data": {
      "text/plain": [
       "'/home/gilleti/Documents/skoldiskurs/analysis'"
      ]
     },
     "execution_count": 61,
     "metadata": {},
     "output_type": "execute_result"
    }
   ],
   "source": [
    "pwd"
   ]
  },
  {
   "cell_type": "code",
   "execution_count": 23,
   "id": "5d5cf6b2",
   "metadata": {},
   "outputs": [],
   "source": [
    "from gensim.models import FastText\n",
    "import numpy as np"
   ]
  },
  {
   "cell_type": "code",
   "execution_count": 3,
   "id": "b22d7237",
   "metadata": {},
   "outputs": [],
   "source": [
    "model_1 = FastText.load(\"../vectors/1962_1978_lemmatized.bin\")\n",
    "model_2 = FastText.load(\"../vectors/1979_2000_lemmatized.bin\")\n",
    "model_3 = FastText.load(\"../vectors/2000_2023_lemmatized.bin\")"
   ]
  },
  {
   "cell_type": "code",
   "execution_count": 56,
   "id": "bfd02cbc",
   "metadata": {},
   "outputs": [
    {
     "data": {
      "text/plain": [
       "0.53683656"
      ]
     },
     "execution_count": 56,
     "metadata": {},
     "output_type": "execute_result"
    }
   ],
   "source": [
    "model_1.wv.similarity('små', 'liten')"
   ]
  },
  {
   "cell_type": "code",
   "execution_count": 58,
   "id": "46197906",
   "metadata": {},
   "outputs": [
    {
     "data": {
      "text/plain": [
       "0.3153281"
      ]
     },
     "execution_count": 58,
     "metadata": {},
     "output_type": "execute_result"
    }
   ],
   "source": [
    "model_1.wv.similarity('elev', 'kund')"
   ]
  },
  {
   "cell_type": "code",
   "execution_count": 59,
   "id": "7ae73d34",
   "metadata": {},
   "outputs": [
    {
     "data": {
      "text/plain": [
       "0.42307904"
      ]
     },
     "execution_count": 59,
     "metadata": {},
     "output_type": "execute_result"
    }
   ],
   "source": [
    "model_2.wv.similarity('elev', 'kund')"
   ]
  },
  {
   "cell_type": "code",
   "execution_count": 60,
   "id": "e0291676",
   "metadata": {},
   "outputs": [
    {
     "data": {
      "text/plain": [
       "0.4409539"
      ]
     },
     "execution_count": 60,
     "metadata": {},
     "output_type": "execute_result"
    }
   ],
   "source": [
    "model_3.wv.similarity('elev', 'kund')"
   ]
  },
  {
   "cell_type": "code",
   "execution_count": 45,
   "id": "46618242",
   "metadata": {},
   "outputs": [],
   "source": [
    "#model_3.wv.most_similar('lärare')"
   ]
  },
  {
   "cell_type": "code",
   "execution_count": 57,
   "id": "aa01be67",
   "metadata": {},
   "outputs": [
    {
     "data": {
      "text/plain": [
       "'hej'"
      ]
     },
     "execution_count": 57,
     "metadata": {},
     "output_type": "execute_result"
    }
   ],
   "source": [
    "model_1.wv.doesnt_match(\"lärare grundskola betyg hej\".split())"
   ]
  },
  {
   "cell_type": "code",
   "execution_count": null,
   "id": "73767e46",
   "metadata": {},
   "outputs": [],
   "source": []
  }
 ],
 "metadata": {
  "kernelspec": {
   "display_name": "Python 3 (ipykernel)",
   "language": "python",
   "name": "python3"
  },
  "language_info": {
   "codemirror_mode": {
    "name": "ipython",
    "version": 3
   },
   "file_extension": ".py",
   "mimetype": "text/x-python",
   "name": "python",
   "nbconvert_exporter": "python",
   "pygments_lexer": "ipython3",
   "version": "3.10.6"
  }
 },
 "nbformat": 4,
 "nbformat_minor": 5
}
